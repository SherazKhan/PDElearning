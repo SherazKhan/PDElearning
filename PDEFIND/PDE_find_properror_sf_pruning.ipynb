{
 "cells": [
  {
   "cell_type": "code",
   "execution_count": 1,
   "metadata": {},
   "outputs": [],
   "source": [
    "import numpy as np\n",
    "import os\n",
    "\n",
    "from PDE_FIND2 import *"
   ]
  },
  {
   "cell_type": "code",
   "execution_count": 2,
   "metadata": {},
   "outputs": [],
   "source": [
    "#computational method to consider\n",
    "comp_str = 'global_NCV_bisplines_3' \n",
    "#options are 'nn','finite_differences','splines', 'NCV_bisplines' ,'global_NCV_bisplines_3'\n",
    "\n",
    "#mathematical model\n",
    "model_str = 'diffadv'\n",
    "#options are 'diffadv','fisher','fisher_nonlin'"
   ]
  },
  {
   "cell_type": "code",
   "execution_count": 3,
   "metadata": {},
   "outputs": [],
   "source": [
    "#create and format data\n",
    "skip = 20 #number of initial timepoints to skip\n",
    "sample_width = 5 #how much to subsample by (timepoints)\n",
    "normalize = 0 #to normalize data or not during PDE-FIND implementation\n",
    "deg = 2 # degree of polynomial to use in library\n",
    "    \n",
    "#training-validation split\n",
    "trainPerc = .5      # must be between 0 and 1\n",
    "valPerc = 1-trainPerc\n",
    "\n",
    "#number of training-validation splits per data set\n",
    "reals = 1000\n",
    "\n",
    "#how to permute the data\n",
    "shufMethod = 'bins' #options are 'perm' (each point randomly split) , 'noperm' (first \n",
    "                    #trainPerc of timepoints given to training data, rest to validation),\n",
    "                    #'reverse' (last trainperc of timepoints given to training data, rest\n",
    "                    # to validation), 'bins' (grouping local spatiotemporal points randomly)\n",
    "\n",
    "#optimization algorithm\n",
    "algoName = 'Greedy' #options: 'STRidge','Lasso','Greedy'\n",
    "\n",
    "#where to write result\n",
    "write_dir = 'pickle_data/'"
   ]
  },
  {
   "cell_type": "code",
   "execution_count": 4,
   "metadata": {},
   "outputs": [],
   "source": [
    "#load data directory, true eqn form, and pruning level for different models\n",
    "if model_str == 'diffadv':\n",
    "    data_dir = \"Data/diffadv/advection_diffusion_\"\n",
    "    deriv_list = ['u_{xx}','u_{x}']\n",
    "    prune_level = 0.25 \n",
    "    \n",
    "elif model_str == 'fisher':\n",
    "    data_dir = \"Data/fisher/fisher_\"\n",
    "    deriv_list = ['u_{xx}','u','u^2']\n",
    "    prune_level = 0.25\n",
    "    \n",
    "elif model_str == 'fisher_nonlin':\n",
    "    data_dir = \"Data/nonlin_fisher/fisher_nonlin_\"\n",
    "    deriv_list = ['uu_{xx}','u_{x}^2','u','u^2']\n",
    "    prune_level = 0.05\n",
    "    \n",
    "#data files (based on different noise levels) to consider\n",
    "data_files = ['00_' + comp_str,'01_' + comp_str,'05_' + comp_str,'10_' + comp_str,'25_' + comp_str,'50_' + comp_str]"
   ]
  },
  {
   "cell_type": "code",
   "execution_count": null,
   "metadata": {
    "scrolled": false
   },
   "outputs": [
    {
     "name": "stderr",
     "output_type": "stream",
     "text": [
      "  0%|          | 0/51 [00:00<?, ?it/s]PDE_FIND2.py:134: FutureWarning: `rcond` parameter will change to the default of machine precision times ``max(M, N)`` where M and N are the input matrix dimensions.\n",
      "To use the future default and silence this warning we advise to pass `rcond=None`, to keep using the old, explicitly pass `rcond=-1`.\n",
      "  w[k][list(F[k])] = np.linalg.lstsq(X[:, list(F[k])], y)[0]\n",
      "100%|██████████| 51/51 [00:01<00:00, 32.37it/s]\n",
      "PDE_FIND2.py:676: FutureWarning: `rcond` parameter will change to the default of machine precision times ``max(M, N)`` where M and N are the input matrix dimensions.\n",
      "To use the future default and silence this warning we advise to pass `rcond=None`, to keep using the old, explicitly pass `rcond=-1`.\n",
      "  xi_hat = np.linalg.lstsq(thetaTrain_hat,utTrain)[0]\n",
      "PDE_FIND2.py:689: FutureWarning: `rcond` parameter will change to the default of machine precision times ``max(M, N)`` where M and N are the input matrix dimensions.\n",
      "To use the future default and silence this warning we advise to pass `rcond=None`, to keep using the old, explicitly pass `rcond=-1`.\n",
      "  xi_tilde = np.linalg.lstsq(thetaTrain_tilde,utTrain)[0]#xi_tilde[keep_ind]\n",
      "PDE_FIND2.py:709: ComplexWarning: Casting complex values to real discards the imaginary part\n",
      "  xi_full[desc_ind] = xi[i]\n",
      "  0%|          | 0/51 [00:00<?, ?it/s]"
     ]
    },
    {
     "name": "stdout",
     "output_type": "stream",
     "text": [
      "initial equation is u_t = (0.367639)\n",
      "    + (-0.789850)u_{x}\n",
      "    + (0.001857)u_{xx}\n",
      "    + (-0.353833)u^2\n",
      "    + (1.117264)u\n",
      "    + (0.002258)u^2u_{x}\n",
      "    + (0.000191)uu_{xx}\n",
      "   \n",
      "initial TPR score is 0.285714285714\n",
      "updated equation is u_t = (-0.719300)u_{x}\n",
      "   \n",
      "Final TP score is 0.5\n"
     ]
    },
    {
     "name": "stderr",
     "output_type": "stream",
     "text": [
      "PDE_FIND2.py:162: FutureWarning: `rcond` parameter will change to the default of machine precision times ``max(M, N)`` where M and N are the input matrix dimensions.\n",
      "To use the future default and silence this warning we advise to pass `rcond=None`, to keep using the old, explicitly pass `rcond=-1`.\n",
      "  w[k][list(F[k])] = np.linalg.lstsq(X[:, list(F[k])], y)[0]\n",
      "100%|██████████| 51/51 [00:01<00:00, 28.72it/s]\n",
      "  0%|          | 0/51 [00:00<?, ?it/s]"
     ]
    },
    {
     "name": "stdout",
     "output_type": "stream",
     "text": [
      "initial equation is u_t = (0.317048)\n",
      "    + (-0.773539)u_{x}\n",
      "    + (0.001660)u_{xx}\n",
      "    + (-0.528466)u^2\n",
      "    + (1.775568)u\n",
      "    + (0.002680)u^2u_{x}\n",
      "   \n",
      "initial TPR score is 0.333333333333\n",
      "updated equation is u_t = (-0.671177)u_{x}\n",
      "   \n",
      "Final TP score is 0.5\n"
     ]
    },
    {
     "name": "stderr",
     "output_type": "stream",
     "text": [
      "100%|██████████| 51/51 [00:01<00:00, 37.10it/s]\n",
      "  0%|          | 0/51 [00:00<?, ?it/s]"
     ]
    },
    {
     "name": "stdout",
     "output_type": "stream",
     "text": [
      "initial equation is u_t = (0.409846)\n",
      "    + (-0.749356)u_{x}\n",
      "    + (0.000058)u_{xx}\n",
      "    + (-0.894984)u^2\n",
      "    + (2.278919)u\n",
      "    + (0.000348)u^2u_{x}\n",
      "    + (0.000936)u_{x}^2\n",
      "   \n",
      "initial TPR score is 0.285714285714\n",
      "updated equation is u_t = (-0.664324)u_{x}\n",
      "   \n",
      "Final TP score is 0.5\n"
     ]
    },
    {
     "name": "stderr",
     "output_type": "stream",
     "text": [
      "100%|██████████| 51/51 [00:01<00:00, 27.07it/s]\n",
      "  0%|          | 0/51 [00:00<?, ?it/s]"
     ]
    },
    {
     "name": "stdout",
     "output_type": "stream",
     "text": [
      "initial equation is u_t = (0.252764)\n",
      "    + (-0.750683)u_{x}\n",
      "    + (0.000232)u_{xx}\n",
      "    + (-1.005554)u^2\n",
      "    + (2.716276)u\n",
      "    + (0.000938)u^2u_{x}\n",
      "    + (0.000854)u_{x}^2\n",
      "   \n",
      "initial TPR score is 0.285714285714\n",
      "updated equation is u_t = (-0.655079)u_{x}\n",
      "   \n",
      "Final TP score is 0.5\n"
     ]
    },
    {
     "name": "stderr",
     "output_type": "stream",
     "text": [
      "100%|██████████| 51/51 [00:01<00:00, 26.79it/s]\n",
      "  0%|          | 0/51 [00:00<?, ?it/s]"
     ]
    },
    {
     "name": "stdout",
     "output_type": "stream",
     "text": [
      "initial equation is u_t = (-0.762718)u_{x}\n",
      "    + (-0.847863)u^2\n",
      "    + (2.533201)u\n",
      "    + (0.001641)u^2u_{x}\n",
      "    + (0.000701)u_{x}^2\n",
      "   \n",
      "initial TPR score is 0.166666666667\n",
      "updated equation is u_t = (-0.651220)u_{x}\n",
      "    + (-0.264280)u^2\n",
      "   \n",
      "Final TP score is 0.333333333333\n"
     ]
    },
    {
     "name": "stderr",
     "output_type": "stream",
     "text": [
      "100%|██████████| 51/51 [00:01<00:00, 32.15it/s]\n",
      "  0%|          | 0/51 [00:00<?, ?it/s]"
     ]
    },
    {
     "name": "stdout",
     "output_type": "stream",
     "text": [
      "initial equation is u_t = (0.329669)\n",
      "    + (-0.778378)u_{x}\n",
      "    + (0.000016)u_{xx}\n",
      "    + (-0.576919)u^2\n",
      "    + (1.531134)u\n",
      "    + (0.000231)u^2u_{x}\n",
      "    + (0.000298)uu_{xx}\n",
      "    + (0.000925)u_{x}^2\n",
      "   \n",
      "initial TPR score is 0.25\n",
      "updated equation is u_t = (-0.735631)u_{x}\n",
      "   \n",
      "Final TP score is 0.5\n"
     ]
    },
    {
     "name": "stderr",
     "output_type": "stream",
     "text": [
      "100%|██████████| 51/51 [00:01<00:00, 31.35it/s]\n",
      "  0%|          | 0/51 [00:00<?, ?it/s]"
     ]
    },
    {
     "name": "stdout",
     "output_type": "stream",
     "text": [
      "initial equation is u_t = (0.312738)\n",
      "    + (-0.779822)u_{x}\n",
      "    + (0.000420)u_{xx}\n",
      "    + (-0.858283)u^2\n",
      "    + (2.337989)u\n",
      "    + (0.001752)u^2u_{x}\n",
      "    + (0.000651)u_{x}^2\n",
      "   \n",
      "initial TPR score is 0.285714285714\n",
      "updated equation is u_t = (-0.639838)u_{x}\n",
      "   \n",
      "Final TP score is 0.5\n"
     ]
    },
    {
     "name": "stderr",
     "output_type": "stream",
     "text": [
      "100%|██████████| 51/51 [00:01<00:00, 30.40it/s]\n",
      "  0%|          | 0/51 [00:00<?, ?it/s]"
     ]
    },
    {
     "name": "stdout",
     "output_type": "stream",
     "text": [
      "initial equation is u_t = (0.363654)\n",
      "    + (-0.826621)u_{x}\n",
      "    + (0.003094)u_{xx}\n",
      "    + (-0.157171)u^2\n",
      "    + (0.435450)u\n",
      "    + (0.003138)u^2u_{x}\n",
      "    + (0.000018)uu_{xx}\n",
      "   \n",
      "initial TPR score is 0.285714285714\n",
      "updated equation is u_t = (-0.692793)u_{x}\n",
      "   \n",
      "Final TP score is 0.5\n"
     ]
    },
    {
     "name": "stderr",
     "output_type": "stream",
     "text": [
      "100%|██████████| 51/51 [00:01<00:00, 32.06it/s]\n",
      "  0%|          | 0/51 [00:00<?, ?it/s]"
     ]
    },
    {
     "name": "stdout",
     "output_type": "stream",
     "text": [
      "initial equation is u_t = (0.232284)\n",
      "    + (-0.781405)u_{x}\n",
      "    + (0.000110)u_{xx}\n",
      "    + (-1.054998)u^2\n",
      "    + (3.047715)u\n",
      "    + (0.001961)u^2u_{x}\n",
      "    + (0.000692)u_{x}^2\n",
      "   \n",
      "initial TPR score is 0.285714285714\n",
      "updated equation is u_t = (-0.635498)u_{x}\n",
      "   \n",
      "Final TP score is 0.5\n"
     ]
    },
    {
     "name": "stderr",
     "output_type": "stream",
     "text": [
      " 55%|█████▍    | 28/51 [00:01<00:04,  5.28it/s]"
     ]
    }
   ],
   "source": [
    "for d in data_files:\n",
    "\n",
    "    #filename to save at\n",
    "    filename = write_dir + algoName + '_' + d + '_' + shufMethod + '_'+model_str+'_prune_deg_' +str(deg)+ '.npz'\n",
    "    \n",
    "    #list of xi estimates from PDE-FIND with pruning\n",
    "    xi_list = []\n",
    "    #list of xi estimates from PDE-FIND (no pruning)\n",
    "    xi_list_no_prune = []\n",
    "    #list of selected hyperparameters from each simulation\n",
    "    hparams_list = []\n",
    "    #validation score\n",
    "    val_score_list = []\n",
    "    #list of TPR scores for each realization\n",
    "    TP_score_list = []\n",
    "\n",
    "    #load in file\n",
    "    mat = np.load(data_dir + d + '.npy').item()\n",
    "    #create indep. variable grids, ut, theta\n",
    "    t_samp,x_samp,ut,theta,description = diffadv_theta_construct_sf(mat,skip,sample_width,deg)\n",
    "    \n",
    "    #loop through reals\n",
    "    for real in np.arange(reals):\n",
    "    \n",
    "        #split data into train and validation data\n",
    "        # ptrain, pval are indices pertaining to train / validation data : \n",
    "        # i.e., ut[ptrain] = utTrain\n",
    "        utTrain,thetaTrain,ptrain,utVal,thetaVal,pval,utTest,thetaTest,ptest = data_shuf(ut,\n",
    "             theta,shufMethod,trainPerc,valPerc,len(x_samp),len(t_samp),stack=1)\n",
    "\n",
    "        #perform training and validation for given data\n",
    "        xi, hparams, val_score, TP_score = run_PDE_Find_train_val(thetaTrain, utTrain, thetaVal, utVal, algoName,description,deriv_list)\n",
    "                \n",
    "        print \"initial equation is \" + print_pde(xi,description)\n",
    "        print \"initial TPR score is \" + str(TP_TPFPFN(xi,description,deriv_list,0))\n",
    "        \n",
    "        #implement pruning if xi has more than 1 nonzero entry\n",
    "        if len(xi[xi!=0]) > 1:\n",
    "            #perform pruning methodology\n",
    "            xi_new, description_new, thetaTrain_new, thetaVal_new = PDE_FIND_prune_lstsq(xi,utTrain,\n",
    "                                         utVal,thetaTrain,thetaVal,description,val_score,prune_level)\n",
    "            #obtain final validation score\n",
    "            val_score = run_PDE_Find_Test(thetaVal,utVal,xi_new)\n",
    "        else:\n",
    "            xi_new = xi\n",
    "            \n",
    "        print \"updated equation is \" + print_pde(xi_new,description)\n",
    "        print \"Final TP score is \" + str(TP_TPFPFN(xi_new,description,deriv_list,0))\n",
    "        \n",
    "        #add new info to lists\n",
    "        xi_list.append(xi_new)\n",
    "        xi_list_no_prune.append(xi)\n",
    "        hparams_list.append(hparams)\n",
    "        val_score_list.append(val_score)\n",
    "        TP_score_list.append(TP_TPFPFN(xi_new,description,deriv_list,0))\n",
    "           \n",
    "        #save\n",
    "        #np.savez(filename,xi_list = xi_list,xi_list_no_prune=xi_list_no_prune,hparams_list=hparams_list,val_score_list=val_score_list,TP_score_list=TP_score_list,\n",
    "        #        description=description,deriv_list=deriv_list)\n",
    "        "
   ]
  },
  {
   "cell_type": "code",
   "execution_count": null,
   "metadata": {},
   "outputs": [],
   "source": []
  }
 ],
 "metadata": {
  "kernelspec": {
   "display_name": "Python 2",
   "language": "python",
   "name": "python2"
  },
  "language_info": {
   "codemirror_mode": {
    "name": "ipython",
    "version": 2
   },
   "file_extension": ".py",
   "mimetype": "text/x-python",
   "name": "python",
   "nbconvert_exporter": "python",
   "pygments_lexer": "ipython2",
   "version": "2.7.16"
  }
 },
 "nbformat": 4,
 "nbformat_minor": 2
}
