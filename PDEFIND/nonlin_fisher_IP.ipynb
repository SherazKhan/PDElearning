{
 "cells": [
  {
   "cell_type": "code",
   "execution_count": null,
   "metadata": {
    "scrolled": true
   },
   "outputs": [],
   "source": [
    "import numpy as np\n",
    "import scipy.optimize\n",
    "from PDE_FIND_IP import *"
   ]
  },
  {
   "cell_type": "code",
   "execution_count": null,
   "metadata": {
    "scrolled": false
   },
   "outputs": [],
   "source": [
    "#each entry is the parameter estimators from PDE-FIND with pruning\n",
    "x0_vec = [[.0098,0,.016,9.29,-9.29,0],[0,0,.024,9.39,-9.4,0],[.0098,0,.016,9.28,-9.31,0]\n",
    "          ,[0,0,.024,9.14,-8.97,0],[0,0,.034,8.55,-7.92,0],[0,0,.04,6.72,-5.41,.286]]\n",
    "\n",
    "#optimized vectors\n",
    "X_opt = np.zeros((len(x0_vec),len(x0_vec[0])))\n",
    "\n",
    "#noise levels under consideration\n",
    "sigma_str_vec = ('00','01','05','10','25','50')"
   ]
  },
  {
   "cell_type": "code",
   "execution_count": null,
   "metadata": {},
   "outputs": [],
   "source": [
    "for i in np.arange(len(sigma_str_vec)):\n",
    "    #minimize cost function\n",
    "    xopt = scipy.optimize.fmin(func=fisher_nonlin_cost, x0=x0_vec[i],args=(sigma_str_vec[i],),xtol=1e-6,maxiter=1e6,maxfun=1e6,disp=True)\n",
    "    print \"Optimization for sigma = \" + sigma_str_vec[i] + \" led to \" + str(xopt)\n",
    "    X_opt[i,:] = xopt\n",
    "    data = {}\n",
    "    data['xopt'] = X_opt\n",
    "    np.save('nonlinear_fisher_IP',data)\n"
   ]
  }
 ],
 "metadata": {
  "kernelspec": {
   "display_name": "Python 2",
   "language": "python",
   "name": "python2"
  },
  "language_info": {
   "codemirror_mode": {
    "name": "ipython",
    "version": 2
   },
   "file_extension": ".py",
   "mimetype": "text/x-python",
   "name": "python",
   "nbconvert_exporter": "python",
   "pygments_lexer": "ipython2",
   "version": "2.7.14"
  }
 },
 "nbformat": 4,
 "nbformat_minor": 2
}
